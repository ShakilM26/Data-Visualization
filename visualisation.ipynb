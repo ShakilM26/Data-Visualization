{
  "nbformat": 4,
  "nbformat_minor": 0,
  "metadata": {
    "colab": {
      "name": "visualisation.ipynb",
      "provenance": [],
      "collapsed_sections": [],
      "include_colab_link": true
    },
    "kernelspec": {
      "name": "python3",
      "display_name": "Python 3"
    },
    "language_info": {
      "name": "python"
    }
  },
  "cells": [
    {
      "cell_type": "markdown",
      "metadata": {
        "id": "view-in-github",
        "colab_type": "text"
      },
      "source": [
        "<a href=\"https://colab.research.google.com/github/ShakilM26/Some_Visualisation/blob/main/visualisation.ipynb\" target=\"_parent\"><img src=\"https://colab.research.google.com/assets/colab-badge.svg\" alt=\"Open In Colab\"/></a>"
      ]
    },
    {
      "cell_type": "code",
      "execution_count": 1,
      "metadata": {
        "id": "LUgnYhLAQULb"
      },
      "outputs": [],
      "source": [
        "import pandas as pd\n",
        "import matplotlib.pyplot as plt\n",
        "import seaborn as sns\n",
        "import numpy as np"
      ]
    },
    {
      "cell_type": "code",
      "source": [
        "data={'name': ['Ronaldo', 'Messi', 'Lewandowski', 'Benzema', \n",
        "               'Mbappe', 'Neymar'],\n",
        "      'age': [37, 34, 33, 34, 23, 30],\n",
        "      'Country': ['Portugal', 'Argentina', 'Poland', 'France', 'France', 'Brazil'],\n",
        "      'goals': [42,40, 42, 34, 30, 21]}\n",
        "\n",
        "df=pd.DataFrame(data)\n",
        "df "
      ],
      "metadata": {
        "colab": {
          "base_uri": "https://localhost:8080/",
          "height": 238
        },
        "id": "mBkOV7S7QaxO",
        "outputId": "6e3e6d07-4935-4448-a481-6ec238764981"
      },
      "execution_count": null,
      "outputs": [
        {
          "output_type": "execute_result",
          "data": {
            "text/plain": [
              "          name  age    Country  goals\n",
              "0      Ronaldo   37   Portugal     42\n",
              "1        Messi   34  Argentina     40\n",
              "2  Lewandowski   33     Poland     42\n",
              "3      Benzema   34     France     34\n",
              "4       Mbappe   23     France     30\n",
              "5       Neymar   30     Brazil     21"
            ],
            "text/html": [
              "\n",
              "  <div id=\"df-b3b2fa1c-ef2d-446a-8af0-6c91771f90a3\">\n",
              "    <div class=\"colab-df-container\">\n",
              "      <div>\n",
              "<style scoped>\n",
              "    .dataframe tbody tr th:only-of-type {\n",
              "        vertical-align: middle;\n",
              "    }\n",
              "\n",
              "    .dataframe tbody tr th {\n",
              "        vertical-align: top;\n",
              "    }\n",
              "\n",
              "    .dataframe thead th {\n",
              "        text-align: right;\n",
              "    }\n",
              "</style>\n",
              "<table border=\"1\" class=\"dataframe\">\n",
              "  <thead>\n",
              "    <tr style=\"text-align: right;\">\n",
              "      <th></th>\n",
              "      <th>name</th>\n",
              "      <th>age</th>\n",
              "      <th>Country</th>\n",
              "      <th>goals</th>\n",
              "    </tr>\n",
              "  </thead>\n",
              "  <tbody>\n",
              "    <tr>\n",
              "      <th>0</th>\n",
              "      <td>Ronaldo</td>\n",
              "      <td>37</td>\n",
              "      <td>Portugal</td>\n",
              "      <td>42</td>\n",
              "    </tr>\n",
              "    <tr>\n",
              "      <th>1</th>\n",
              "      <td>Messi</td>\n",
              "      <td>34</td>\n",
              "      <td>Argentina</td>\n",
              "      <td>40</td>\n",
              "    </tr>\n",
              "    <tr>\n",
              "      <th>2</th>\n",
              "      <td>Lewandowski</td>\n",
              "      <td>33</td>\n",
              "      <td>Poland</td>\n",
              "      <td>42</td>\n",
              "    </tr>\n",
              "    <tr>\n",
              "      <th>3</th>\n",
              "      <td>Benzema</td>\n",
              "      <td>34</td>\n",
              "      <td>France</td>\n",
              "      <td>34</td>\n",
              "    </tr>\n",
              "    <tr>\n",
              "      <th>4</th>\n",
              "      <td>Mbappe</td>\n",
              "      <td>23</td>\n",
              "      <td>France</td>\n",
              "      <td>30</td>\n",
              "    </tr>\n",
              "    <tr>\n",
              "      <th>5</th>\n",
              "      <td>Neymar</td>\n",
              "      <td>30</td>\n",
              "      <td>Brazil</td>\n",
              "      <td>21</td>\n",
              "    </tr>\n",
              "  </tbody>\n",
              "</table>\n",
              "</div>\n",
              "      <button class=\"colab-df-convert\" onclick=\"convertToInteractive('df-b3b2fa1c-ef2d-446a-8af0-6c91771f90a3')\"\n",
              "              title=\"Convert this dataframe to an interactive table.\"\n",
              "              style=\"display:none;\">\n",
              "        \n",
              "  <svg xmlns=\"http://www.w3.org/2000/svg\" height=\"24px\"viewBox=\"0 0 24 24\"\n",
              "       width=\"24px\">\n",
              "    <path d=\"M0 0h24v24H0V0z\" fill=\"none\"/>\n",
              "    <path d=\"M18.56 5.44l.94 2.06.94-2.06 2.06-.94-2.06-.94-.94-2.06-.94 2.06-2.06.94zm-11 1L8.5 8.5l.94-2.06 2.06-.94-2.06-.94L8.5 2.5l-.94 2.06-2.06.94zm10 10l.94 2.06.94-2.06 2.06-.94-2.06-.94-.94-2.06-.94 2.06-2.06.94z\"/><path d=\"M17.41 7.96l-1.37-1.37c-.4-.4-.92-.59-1.43-.59-.52 0-1.04.2-1.43.59L10.3 9.45l-7.72 7.72c-.78.78-.78 2.05 0 2.83L4 21.41c.39.39.9.59 1.41.59.51 0 1.02-.2 1.41-.59l7.78-7.78 2.81-2.81c.8-.78.8-2.07 0-2.86zM5.41 20L4 18.59l7.72-7.72 1.47 1.35L5.41 20z\"/>\n",
              "  </svg>\n",
              "      </button>\n",
              "      \n",
              "  <style>\n",
              "    .colab-df-container {\n",
              "      display:flex;\n",
              "      flex-wrap:wrap;\n",
              "      gap: 12px;\n",
              "    }\n",
              "\n",
              "    .colab-df-convert {\n",
              "      background-color: #E8F0FE;\n",
              "      border: none;\n",
              "      border-radius: 50%;\n",
              "      cursor: pointer;\n",
              "      display: none;\n",
              "      fill: #1967D2;\n",
              "      height: 32px;\n",
              "      padding: 0 0 0 0;\n",
              "      width: 32px;\n",
              "    }\n",
              "\n",
              "    .colab-df-convert:hover {\n",
              "      background-color: #E2EBFA;\n",
              "      box-shadow: 0px 1px 2px rgba(60, 64, 67, 0.3), 0px 1px 3px 1px rgba(60, 64, 67, 0.15);\n",
              "      fill: #174EA6;\n",
              "    }\n",
              "\n",
              "    [theme=dark] .colab-df-convert {\n",
              "      background-color: #3B4455;\n",
              "      fill: #D2E3FC;\n",
              "    }\n",
              "\n",
              "    [theme=dark] .colab-df-convert:hover {\n",
              "      background-color: #434B5C;\n",
              "      box-shadow: 0px 1px 3px 1px rgba(0, 0, 0, 0.15);\n",
              "      filter: drop-shadow(0px 1px 2px rgba(0, 0, 0, 0.3));\n",
              "      fill: #FFFFFF;\n",
              "    }\n",
              "  </style>\n",
              "\n",
              "      <script>\n",
              "        const buttonEl =\n",
              "          document.querySelector('#df-b3b2fa1c-ef2d-446a-8af0-6c91771f90a3 button.colab-df-convert');\n",
              "        buttonEl.style.display =\n",
              "          google.colab.kernel.accessAllowed ? 'block' : 'none';\n",
              "\n",
              "        async function convertToInteractive(key) {\n",
              "          const element = document.querySelector('#df-b3b2fa1c-ef2d-446a-8af0-6c91771f90a3');\n",
              "          const dataTable =\n",
              "            await google.colab.kernel.invokeFunction('convertToInteractive',\n",
              "                                                     [key], {});\n",
              "          if (!dataTable) return;\n",
              "\n",
              "          const docLinkHtml = 'Like what you see? Visit the ' +\n",
              "            '<a target=\"_blank\" href=https://colab.research.google.com/notebooks/data_table.ipynb>data table notebook</a>'\n",
              "            + ' to learn more about interactive tables.';\n",
              "          element.innerHTML = '';\n",
              "          dataTable['output_type'] = 'display_data';\n",
              "          await google.colab.output.renderOutput(dataTable, element);\n",
              "          const docLink = document.createElement('div');\n",
              "          docLink.innerHTML = docLinkHtml;\n",
              "          element.appendChild(docLink);\n",
              "        }\n",
              "      </script>\n",
              "    </div>\n",
              "  </div>\n",
              "  "
            ]
          },
          "metadata": {},
          "execution_count": 2
        }
      ]
    },
    {
      "cell_type": "code",
      "source": [
        "plt.barh(df.name, df.goals)\n",
        "for index, value in enumerate(df.goals):\n",
        "  plt.text(value-14, index, str(value), fontweight='bold', fontsize=14)"
      ],
      "metadata": {
        "colab": {
          "base_uri": "https://localhost:8080/",
          "height": 265
        },
        "id": "9Fgqx38FQbaU",
        "outputId": "144a455e-c485-486b-d89d-055d9cd708db"
      },
      "execution_count": null,
      "outputs": [
        {
          "output_type": "display_data",
          "data": {
            "text/plain": [
              "<Figure size 432x288 with 1 Axes>"
            ],
            "image/png": "[encoded data removed]"
          },
          "metadata": {
            "needs_background": "light"
          }
        }
      ]
    },
    {
      "cell_type": "code",
      "source": [
        "# Let's take a look another example\n",
        "\n",
        "names=['canada', 'norway', 'germany', 'switzerland']\n",
        "gold=[10, 12, 9, 10]\n",
        "silver=[15,20,15,5]\n",
        "\n",
        "plt.bar(names,gold, label='Gold')\n",
        "plt.bar(names,silver, bottom=gold, label='Silver')\n",
        "plt.legend()\n",
        "plt.show()"
      ],
      "metadata": {
        "colab": {
          "base_uri": "https://localhost:8080/",
          "height": 265
        },
        "id": "dtZRjjPnQbdD",
        "outputId": "6d292287-b704-43be-8e69-82408b601c2f"
      },
      "execution_count": null,
      "outputs": [
        {
          "output_type": "display_data",
          "data": {
            "text/plain": [
              "<Figure size 432x288 with 1 Axes>"
            ],
            "image/png": "[encoded data removed]"
          },
          "metadata": {
            "needs_background": "light"
          }
        }
      ]
    },
    {
      "cell_type": "code",
      "source": [
        "#3\n",
        "\n",
        "number={'Shakil': 87, 'Rafsan': 90, 'Mintu': 95}\n",
        "\n",
        "key=list(number.keys())\n",
        "value=list(number.values())\n",
        "\n",
        "plt.bar(key, value, color='royalblue')"
      ],
      "metadata": {
        "colab": {
          "base_uri": "https://localhost:8080/",
          "height": 282
        },
        "id": "Dpbokdb_Qbfh",
        "outputId": "e851d77c-7bc3-4bb5-debf-a7d3a6c25936"
      },
      "execution_count": null,
      "outputs": [
        {
          "output_type": "execute_result",
          "data": {
            "text/plain": [
              "<BarContainer object of 3 artists>"
            ]
          },
          "metadata": {},
          "execution_count": 26
        },
        {
          "output_type": "display_data",
          "data": {
            "text/plain": [
              "<Figure size 432x288 with 1 Axes>"
            ],
            "image/png": "[encoded data removed]"
          },
          "metadata": {
            "needs_background": "light"
          }
        }
      ]
    },
    {
      "cell_type": "code",
      "source": [
        "# Cluster map\n",
        "\n",
        "names=['Shakil', 'Mou', 'Peter', 'MJ', 'Parkar', 'Gwen']\n",
        "cgpa=[3.30,3.80,3.60,3.70,3.65,3.90]\n",
        "age=[25,24,25,25,29,28]\n",
        "\n",
        "cluster=pd.DataFrame({'Names':names, 'CGPA':cgpa, 'Age':age})\n",
        "cluster.set_index('Names', inplace=True)\n",
        "sns.clustermap(cluster, annot=True, figsize=(4,4))"
      ],
      "metadata": {
        "id": "bXnKfzWyT5-M",
        "outputId": "9ac3263d-1e22-4c6d-874c-0678a5e24259",
        "colab": {
          "base_uri": "https://localhost:8080/",
          "height": 319
        }
      },
      "execution_count": null,
      "outputs": [
        {
          "output_type": "execute_result",
          "data": {
            "text/plain": [
              "<seaborn.matrix.ClusterGrid at 0x7fa627286550>"
            ]
          },
          "metadata": {},
          "execution_count": 5
        },
        {
          "output_type": "display_data",
          "data": {
            "text/plain": [
              "<Figure size 288x288 with 4 Axes>"
            ],
            "image/png": "[encoded data removed]"
          },
          "metadata": {
            "needs_background": "light"
          }
        }
      ]
    },
    {
      "cell_type": "code",
      "source": [
        "x=[4,6,8,10]\n",
        "y=[3,5,12,9]\n",
        "\n",
        "plt.plot(x,y, linestyle='dotted', linewidth=4, marker='D', label='blue')\n",
        "plt.legend(loc='best', shadow=True)\n",
        "plt.grid()\n",
        "plt.show()"
      ],
      "metadata": {
        "id": "bXGkAm8m1sKf",
        "outputId": "a561c9b7-4b6c-431e-97c8-c4d57d987658",
        "colab": {
          "base_uri": "https://localhost:8080/",
          "height": 265
        }
      },
      "execution_count": 11,
      "outputs": [
        {
          "output_type": "display_data",
          "data": {
            "text/plain": [
              "<Figure size 432x288 with 1 Axes>"
            ],
            "image/png": "[encoded data removed]"
          },
          "metadata": {
            "needs_background": "light"
          }
        }
      ]
    },
    {
      "cell_type": "code",
      "source": [
        "plt.scatter(x,y, marker='D')\n",
        "plt.show()"
      ],
      "metadata": {
        "id": "4m3cAM1SIXac",
        "outputId": "85a24bb6-c406-4ec7-b0f0-841a0350aa48",
        "colab": {
          "base_uri": "https://localhost:8080/",
          "height": 265
        }
      },
      "execution_count": 14,
      "outputs": [
        {
          "output_type": "display_data",
          "data": {
            "text/plain": [
              "<Figure size 432x288 with 1 Axes>"
            ],
            "image/png": "[encoded data removed]"
          },
          "metadata": {
            "needs_background": "light"
          }
        }
      ]
    },
    {
      "cell_type": "code",
      "source": [
        "f=[2,3,4,5,6]\n",
        "l=[4,9,5,9,4]\n",
        "\n",
        "f2=[10,7,7,10,10,7]\n",
        "l2=[9,9,7,7,5,5]\n",
        "\n",
        "plt.plot(f,l, color='orange', linewidth=5, label='green')\n",
        "plt.plot(f2,l2, color='royalblue', linewidth=5, label='green')\n",
        "plt.legend(loc='best', shadow=True)"
      ],
      "metadata": {
        "id": "9YKelOrdIXdZ",
        "outputId": "7d58597f-e610-4580-eaae-b2c39a0a1b50",
        "colab": {
          "base_uri": "https://localhost:8080/",
          "height": 282
        }
      },
      "execution_count": 45,
      "outputs": [
        {
          "output_type": "execute_result",
          "data": {
            "text/plain": [
              "<matplotlib.legend.Legend at 0x7f3708b6f2d0>"
            ]
          },
          "metadata": {},
          "execution_count": 45
        },
        {
          "output_type": "display_data",
          "data": {
            "text/plain": [
              "<Figure size 432x288 with 1 Axes>"
            ],
            "image/png": "[encoded data removed]"
          },
          "metadata": {
            "needs_background": "light"
          }
        }
      ]
    },
    {
      "cell_type": "code",
      "source": [
        "#Horizontal Bar\n",
        "\n",
        "x=[2,5,6,7,8]\n",
        "y=[3,7,4,12,5]\n",
        "x2=[4,5,8,9,8]\n",
        "y2=[3,5,7,12,6]\n",
        "\n",
        "plt.barh(x,y)\n",
        "plt.barh(x2,y2)\n",
        "plt.legend(['Blue', 'Orange'], loc='best')"
      ],
      "metadata": {
        "id": "104Ec9DxIXgk",
        "outputId": "3c5439a3-2f4a-4d17-9198-62d228ec472a",
        "colab": {
          "base_uri": "https://localhost:8080/",
          "height": 282
        }
      },
      "execution_count": 43,
      "outputs": [
        {
          "output_type": "execute_result",
          "data": {
            "text/plain": [
              "<matplotlib.legend.Legend at 0x7f370ac7d4d0>"
            ]
          },
          "metadata": {},
          "execution_count": 43
        },
        {
          "output_type": "display_data",
          "data": {
            "text/plain": [
              "<Figure size 432x288 with 1 Axes>"
            ],
            "image/png": "[encoded data removed]"
          },
          "metadata": {
            "needs_background": "light"
          }
        }
      ]
    },
    {
      "cell_type": "code",
      "source": [
        "#Bar Graph\n",
        "\n",
        "values=[10,40,70,100]\n",
        "language=['Spanish', 'German', 'English', 'Bangla']\n",
        "\n",
        "plt.bar(range(4), values)\n",
        "plt.xticks(range(4), language)\n",
        "plt.title('Language Percentage')\n",
        "plt.show()"
      ],
      "metadata": {
        "id": "8Pt3fyTyIXjk",
        "outputId": "3e72d9ae-5eba-4f89-b87e-2a0c64432d57",
        "colab": {
          "base_uri": "https://localhost:8080/",
          "height": 281
        }
      },
      "execution_count": 50,
      "outputs": [
        {
          "output_type": "display_data",
          "data": {
            "text/plain": [
              "<Figure size 432x288 with 1 Axes>"
            ],
            "image/png": "[encoded data removed]"
          },
          "metadata": {
            "needs_background": "light"
          }
        }
      ]
    },
    {
      "cell_type": "code",
      "source": [
        "names=['Shakil', 'Mintu', 'Rafsan', 'Mushfiq']\n",
        "salary=[100,110,85,110]\n",
        "bonus=[80,90,75,90]\n",
        "w=0.2\n",
        "\n",
        "bar=np.arange(len(names))\n",
        "bar1=[i+w for i in bar]\n",
        "plt.bar(bar, salary)\n",
        "plt.bar(bar1, bonus)\n",
        "plt.xticks(bar+w/2, names)\n",
        "plt.figure()"
      ],
      "metadata": {
        "id": "rURBI8wkIXnQ",
        "outputId": "2ea89a00-09af-479b-fce9-faebc34afee0",
        "colab": {
          "base_uri": "https://localhost:8080/",
          "height": 404
        }
      },
      "execution_count": 58,
      "outputs": [
        {
          "output_type": "execute_result",
          "data": {
            "text/plain": [
              "([<matplotlib.axis.XTick at 0x7f3708427650>,\n",
              "  <matplotlib.axis.XTick at 0x7f3708427590>,\n",
              "  <matplotlib.axis.XTick at 0x7f37084272d0>,\n",
              "  <matplotlib.axis.XTick at 0x7f37083f0290>],\n",
              " [Text(0, 0, 'Shakil'),\n",
              "  Text(0, 0, 'Mintu'),\n",
              "  Text(0, 0, 'Rafsan'),\n",
              "  Text(0, 0, 'Mushfiq')])"
            ]
          },
          "metadata": {},
          "execution_count": 58
        },
        {
          "output_type": "display_data",
          "data": {
            "text/plain": [
              "<Figure size 432x288 with 1 Axes>"
            ],
            "image/png": "[encoded data removed]"
          },
          "metadata": {
            "needs_background": "light"
          }
        }
      ]
    },
    {
      "cell_type": "code",
      "source": [
        ""
      ],
      "metadata": {
        "id": "9iDzYV9lIXpn"
      },
      "execution_count": null,
      "outputs": []
    }
  ]
}