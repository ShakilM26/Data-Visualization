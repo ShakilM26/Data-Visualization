{
  "nbformat": 4,
  "nbformat_minor": 0,
  "metadata": {
    "colab": {
      "provenance": [],
      "authorship_tag": "ABX9TyPMgq/rSaGQm1Ft828bQOO4",
      "include_colab_link": true
    },
    "kernelspec": {
      "name": "python3",
      "display_name": "Python 3"
    },
    "language_info": {
      "name": "python"
    }
  },
  "cells": [
    {
      "cell_type": "markdown",
      "metadata": {
        "id": "view-in-github",
        "colab_type": "text"
      },
      "source": [
        "<a href=\"https://colab.research.google.com/github/ShakilM26/Some_Visualisation/blob/main/matplotlib/more_barplot_viz.ipynb\" target=\"_parent\"><img src=\"https://colab.research.google.com/assets/colab-badge.svg\" alt=\"Open In Colab\"/></a>"
      ]
    },
    {
      "cell_type": "code",
      "execution_count": null,
      "metadata": {
        "id": "txyW7i-F76VN"
      },
      "outputs": [],
      "source": [
        "import matplotlib.pyplot as plt"
      ]
    },
    {
      "cell_type": "code",
      "source": [
        "men = [22,55,62,45,21,82,105,128,91,102]\n",
        "women=[30,40,60,80,110,140,120,159,148,100]\n",
        "\n",
        "bin = [20,60,100,140,180]\n",
        "\n",
        "plt.hist([men, women], bins=bin, rwidth=0.80, ec='green')\n",
        "plt.legend(['Men', 'Women'], shadow=True)\n",
        "#plt.xticks(bin)\n",
        "plt.show()"
      ],
      "metadata": {
        "colab": {
          "base_uri": "https://localhost:8080/",
          "height": 265
        },
        "id": "ddPiYccE8LXH",
        "outputId": "f1e03ac2-5af0-4ae5-f16f-ffa48baffb5b"
      },
      "execution_count": null,
      "outputs": [
        {
          "output_type": "display_data",
          "data": {
            "text/plain": [
              "<Figure size 432x288 with 1 Axes>"
            ],
            "image/png": "[encoded data removed]"
          },
          "metadata": {
            "needs_background": "light"
          }
        }
      ]
    },
    {
      "cell_type": "code",
      "source": [
        "year = ['2022', '2023', '2024', '2025', '2026', '2027', '2028']\n",
        "profit = [50,100,200,300,350,500,700]\n",
        "revenue = [40,80,150,200,300,400,500]\n",
        "\n",
        "plt.figure(figsize=[8,6])\n",
        "plt.bar(year, profit, label='Profit')\n",
        "plt.bar(year, revenue, label='Revenue')\n",
        "plt.legend(loc='best', shadow=True, fontsize='large')\n",
        "plt.show()"
      ],
      "metadata": {
        "colab": {
          "base_uri": "https://localhost:8080/",
          "height": 374
        },
        "id": "Q22XjRcm8bvL",
        "outputId": "614477b0-2734-4558-aa6a-4f86c3775586"
      },
      "execution_count": null,
      "outputs": [
        {
          "output_type": "display_data",
          "data": {
            "text/plain": [
              "<Figure size 576x432 with 1 Axes>"
            ],
            "image/png": "[encoded data removed]"
          },
          "metadata": {
            "needs_background": "light"
          }
        }
      ]
    },
    {
      "cell_type": "code",
      "source": [
        "import pandas as pd \n",
        "\n",
        "data={'names':['faria', 'asif', 'farhan', 'fahad', 'khadija'],\n",
        "      'marks':[45, 44, 42, 46, 45]}\n",
        "df=pd.DataFrame(data)"
      ],
      "metadata": {
        "id": "NUjTwnSV9kuW"
      },
      "execution_count": null,
      "outputs": []
    },
    {
      "cell_type": "code",
      "source": [
        "# append mean value \n",
        "\n",
        "df.append({'names':'mean', 'marks':df.marks.mean()}, ignore_index=True)"
      ],
      "metadata": {
        "id": "EMuABcUv3jra",
        "outputId": "f8928407-f85d-43cd-ac05-d9fcb0684070",
        "colab": {
          "base_uri": "https://localhost:8080/",
          "height": 238
        }
      },
      "execution_count": null,
      "outputs": [
        {
          "output_type": "execute_result",
          "data": {
            "text/plain": [
              "     names  marks\n",
              "0    faria   45.0\n",
              "1     asif   44.0\n",
              "2   farhan   42.0\n",
              "3    fahad   46.0\n",
              "4  khadija   45.0\n",
              "5     mean   44.4"
            ],
            "text/html": [
              "\n",
              "  <div id=\"df-225721c9-6c73-4ec7-8b7f-ecab7c0e90b7\">\n",
              "    <div class=\"colab-df-container\">\n",
              "      <div>\n",
              "<style scoped>\n",
              "    .dataframe tbody tr th:only-of-type {\n",
              "        vertical-align: middle;\n",
              "    }\n",
              "\n",
              "    .dataframe tbody tr th {\n",
              "        vertical-align: top;\n",
              "    }\n",
              "\n",
              "    .dataframe thead th {\n",
              "        text-align: right;\n",
              "    }\n",
              "</style>\n",
              "<table border=\"1\" class=\"dataframe\">\n",
              "  <thead>\n",
              "    <tr style=\"text-align: right;\">\n",
              "      <th></th>\n",
              "      <th>names</th>\n",
              "      <th>marks</th>\n",
              "    </tr>\n",
              "  </thead>\n",
              "  <tbody>\n",
              "    <tr>\n",
              "      <th>0</th>\n",
              "      <td>faria</td>\n",
              "      <td>45.0</td>\n",
              "    </tr>\n",
              "    <tr>\n",
              "      <th>1</th>\n",
              "      <td>asif</td>\n",
              "      <td>44.0</td>\n",
              "    </tr>\n",
              "    <tr>\n",
              "      <th>2</th>\n",
              "      <td>farhan</td>\n",
              "      <td>42.0</td>\n",
              "    </tr>\n",
              "    <tr>\n",
              "      <th>3</th>\n",
              "      <td>fahad</td>\n",
              "      <td>46.0</td>\n",
              "    </tr>\n",
              "    <tr>\n",
              "      <th>4</th>\n",
              "      <td>khadija</td>\n",
              "      <td>45.0</td>\n",
              "    </tr>\n",
              "    <tr>\n",
              "      <th>5</th>\n",
              "      <td>mean</td>\n",
              "      <td>44.4</td>\n",
              "    </tr>\n",
              "  </tbody>\n",
              "</table>\n",
              "</div>\n",
              "      <button class=\"colab-df-convert\" onclick=\"convertToInteractive('df-225721c9-6c73-4ec7-8b7f-ecab7c0e90b7')\"\n",
              "              title=\"Convert this dataframe to an interactive table.\"\n",
              "              style=\"display:none;\">\n",
              "        \n",
              "  <svg xmlns=\"http://www.w3.org/2000/svg\" height=\"24px\"viewBox=\"0 0 24 24\"\n",
              "       width=\"24px\">\n",
              "    <path d=\"M0 0h24v24H0V0z\" fill=\"none\"/>\n",
              "    <path d=\"M18.56 5.44l.94 2.06.94-2.06 2.06-.94-2.06-.94-.94-2.06-.94 2.06-2.06.94zm-11 1L8.5 8.5l.94-2.06 2.06-.94-2.06-.94L8.5 2.5l-.94 2.06-2.06.94zm10 10l.94 2.06.94-2.06 2.06-.94-2.06-.94-.94-2.06-.94 2.06-2.06.94z\"/><path d=\"M17.41 7.96l-1.37-1.37c-.4-.4-.92-.59-1.43-.59-.52 0-1.04.2-1.43.59L10.3 9.45l-7.72 7.72c-.78.78-.78 2.05 0 2.83L4 21.41c.39.39.9.59 1.41.59.51 0 1.02-.2 1.41-.59l7.78-7.78 2.81-2.81c.8-.78.8-2.07 0-2.86zM5.41 20L4 18.59l7.72-7.72 1.47 1.35L5.41 20z\"/>\n",
              "  </svg>\n",
              "      </button>\n",
              "      \n",
              "  <style>\n",
              "    .colab-df-container {\n",
              "      display:flex;\n",
              "      flex-wrap:wrap;\n",
              "      gap: 12px;\n",
              "    }\n",
              "\n",
              "    .colab-df-convert {\n",
              "      background-color: #E8F0FE;\n",
              "      border: none;\n",
              "      border-radius: 50%;\n",
              "      cursor: pointer;\n",
              "      display: none;\n",
              "      fill: #1967D2;\n",
              "      height: 32px;\n",
              "      padding: 0 0 0 0;\n",
              "      width: 32px;\n",
              "    }\n",
              "\n",
              "    .colab-df-convert:hover {\n",
              "      background-color: #E2EBFA;\n",
              "      box-shadow: 0px 1px 2px rgba(60, 64, 67, 0.3), 0px 1px 3px 1px rgba(60, 64, 67, 0.15);\n",
              "      fill: #174EA6;\n",
              "    }\n",
              "\n",
              "    [theme=dark] .colab-df-convert {\n",
              "      background-color: #3B4455;\n",
              "      fill: #D2E3FC;\n",
              "    }\n",
              "\n",
              "    [theme=dark] .colab-df-convert:hover {\n",
              "      background-color: #434B5C;\n",
              "      box-shadow: 0px 1px 3px 1px rgba(0, 0, 0, 0.15);\n",
              "      filter: drop-shadow(0px 1px 2px rgba(0, 0, 0, 0.3));\n",
              "      fill: #FFFFFF;\n",
              "    }\n",
              "  </style>\n",
              "\n",
              "      <script>\n",
              "        const buttonEl =\n",
              "          document.querySelector('#df-225721c9-6c73-4ec7-8b7f-ecab7c0e90b7 button.colab-df-convert');\n",
              "        buttonEl.style.display =\n",
              "          google.colab.kernel.accessAllowed ? 'block' : 'none';\n",
              "\n",
              "        async function convertToInteractive(key) {\n",
              "          const element = document.querySelector('#df-225721c9-6c73-4ec7-8b7f-ecab7c0e90b7');\n",
              "          const dataTable =\n",
              "            await google.colab.kernel.invokeFunction('convertToInteractive',\n",
              "                                                     [key], {});\n",
              "          if (!dataTable) return;\n",
              "\n",
              "          const docLinkHtml = 'Like what you see? Visit the ' +\n",
              "            '<a target=\"_blank\" href=https://colab.research.google.com/notebooks/data_table.ipynb>data table notebook</a>'\n",
              "            + ' to learn more about interactive tables.';\n",
              "          element.innerHTML = '';\n",
              "          dataTable['output_type'] = 'display_data';\n",
              "          await google.colab.output.renderOutput(dataTable, element);\n",
              "          const docLink = document.createElement('div');\n",
              "          docLink.innerHTML = docLinkHtml;\n",
              "          element.appendChild(docLink);\n",
              "        }\n",
              "      </script>\n",
              "    </div>\n",
              "  </div>\n",
              "  "
            ]
          },
          "metadata": {},
          "execution_count": 17
        }
      ]
    },
    {
      "cell_type": "code",
      "source": [
        "import numpy as np \n",
        "\n",
        "\n",
        "fig, ax = plt.subplots()\n",
        "width = 0.75\n",
        "\n",
        "ind = np.arange(len(df.marks))\n",
        "ax.barh(ind, df.marks, width)\n",
        "\n",
        "for i,v in enumerate(df.marks):\n",
        "  ax.text(v-20, i, str(v), va='center', fontweight='bold')\n",
        "plt.show()"
      ],
      "metadata": {
        "id": "tFSJXPlK3jti",
        "outputId": "4deaa085-4f44-4b75-be0a-8065de06fbe6",
        "colab": {
          "base_uri": "https://localhost:8080/",
          "height": 265
        }
      },
      "execution_count": null,
      "outputs": [
        {
          "output_type": "display_data",
          "data": {
            "text/plain": [
              "<Figure size 432x288 with 1 Axes>"
            ],
            "image/png": "[encoded data removed]"
          },
          "metadata": {
            "needs_background": "light"
          }
        }
      ]
    },
    {
      "cell_type": "code",
      "source": [],
      "metadata": {
        "id": "k8Qm9vVZ3jw9"
      },
      "execution_count": null,
      "outputs": []
    },
    {
      "cell_type": "code",
      "source": [
        "plt.barh(df.names, df.marks)\n",
        "\n",
        "for i, v in enumerate(df.marks):\n",
        "  plt.text(v, i, str(v), fontweight='bold', fontsize=14)"
      ],
      "metadata": {
        "id": "k6vrshJb3jzw",
        "outputId": "7a99f76d-85db-4848-bf95-cf1a8dc9962c",
        "colab": {
          "base_uri": "https://localhost:8080/",
          "height": 265
        }
      },
      "execution_count": null,
      "outputs": [
        {
          "output_type": "display_data",
          "data": {
            "text/plain": [
              "<Figure size 432x288 with 1 Axes>"
            ],
            "image/png": "[encoded data removed]"
          },
          "metadata": {
            "needs_background": "light"
          }
        }
      ]
    },
    {
      "cell_type": "code",
      "source": [
        "names = ['Canada', 'Norway', 'Germany', 'Switzerland']\n",
        "gold = [10,12,9,10]\n",
        "silver = [15,20,15,5]\n",
        "\n",
        "plt.bar(names, gold, label='Gold')\n",
        "plt.bar(names, silver, label='Silver', bottom=gold)\n",
        "plt.legend()"
      ],
      "metadata": {
        "id": "Ra_oMknn6QE3",
        "outputId": "75a33a2a-cd51-4d66-fc16-cc47cebd48b4",
        "colab": {
          "base_uri": "https://localhost:8080/",
          "height": 282
        }
      },
      "execution_count": null,
      "outputs": [
        {
          "output_type": "execute_result",
          "data": {
            "text/plain": [
              "<matplotlib.legend.Legend at 0x7f5b73482c90>"
            ]
          },
          "metadata": {},
          "execution_count": 27
        },
        {
          "output_type": "display_data",
          "data": {
            "text/plain": [
              "<Figure size 432x288 with 1 Axes>"
            ],
            "image/png": "[encoded data removed]"
          },
          "metadata": {
            "needs_background": "light"
          }
        }
      ]
    },
    {
      "cell_type": "code",
      "source": [
        "season=['2006-07', '2007-08', '2008-09', '2009-10',\n",
        "        '2010-11','2011-12', '2012-13', '2013-14',\n",
        "        '2014-15', '2015-16', '2016-17', '2017-18']\n",
        "\n",
        "matches=[11,11,12,6,12,10,12,11,12,12,13,12]\n",
        "goals=[3,8,4,7,6,10,12,17,10,16,12,15]\n",
        "\n",
        "s= np.arange(12)\n",
        "plt.figure(figsize=(15,6))\n",
        "\n",
        "plt.bar(season, matches)\n",
        "plt.bar(season, goals, bottom=matches)\n",
        "plt.legend(['Matches', 'Goals'],loc='best')"
      ],
      "metadata": {
        "id": "4-aWW7_LC7YJ",
        "outputId": "54177088-94ee-48b5-df9e-c324992e3c31",
        "colab": {
          "base_uri": "https://localhost:8080/",
          "height": 391
        }
      },
      "execution_count": null,
      "outputs": [
        {
          "output_type": "execute_result",
          "data": {
            "text/plain": [
              "<matplotlib.legend.Legend at 0x7f5b731ad710>"
            ]
          },
          "metadata": {},
          "execution_count": 31
        },
        {
          "output_type": "display_data",
          "data": {
            "text/plain": [
              "<Figure size 1080x432 with 1 Axes>"
            ],
            "image/png": "[encoded data removed]"
          },
          "metadata": {
            "needs_background": "light"
          }
        }
      ]
    },
    {
      "cell_type": "code",
      "source": [
        "plt.figure(figsize=(15,6))\n",
        "plt.bar(s-0.2, matches, width=0.4, label='Matches')\n",
        "plt.bar(s+0.2, goals, width=0.4, label='Matches')\n",
        "plt.legend()\n",
        "plt.xticks(s, season)\n",
        "plt.show()"
      ],
      "metadata": {
        "id": "NoLNXUuFDt-N",
        "outputId": "e2911b8f-753d-4510-b87f-5179e6180026",
        "colab": {
          "base_uri": "https://localhost:8080/",
          "height": 374
        }
      },
      "execution_count": null,
      "outputs": [
        {
          "output_type": "display_data",
          "data": {
            "text/plain": [
              "<Figure size 1080x432 with 1 Axes>"
            ],
            "image/png": "[encoded data removed]"
          },
          "metadata": {
            "needs_background": "light"
          }
        }
      ]
    },
    {
      "cell_type": "code",
      "source": [
        "names = ['Steve', 'Hazel', 'Brown', 'Stephen', 'Anna']\n",
        "ds = [20, 24, 22, 22, 25]\n",
        "db = [25, 27, 25, 24, 21]\n",
        "algo = [28, 26, 28, 22, 22]\n",
        "\n",
        "plt.bar(names, ds, label='Data Structure')\n",
        "plt.bar(names, db, bottom=ds, label='Database')\n",
        "plt.bar(names, algo, bottom=db, label='Algo')\n",
        "plt.legend()\n",
        "plt.show()"
      ],
      "metadata": {
        "id": "GJ3-yxqSD_gH",
        "outputId": "9c00489e-cfc2-495e-dbc4-3df94177c274",
        "colab": {
          "base_uri": "https://localhost:8080/",
          "height": 265
        }
      },
      "execution_count": null,
      "outputs": [
        {
          "output_type": "display_data",
          "data": {
            "text/plain": [
              "<Figure size 432x288 with 1 Axes>"
            ],
            "image/png": "[encoded data removed]"
          },
          "metadata": {
            "needs_background": "light"
          }
        }
      ]
    },
    {
      "cell_type": "code",
      "source": [
        "subject = {'Shakil':90, 'Mintu':95, 'Sakib':80}\n",
        "names = list(subject.keys())\n",
        "marks = list(subject.values())\n",
        "\n",
        "plt.figure(figsize=(7,4))\n",
        "plt.bar(names, marks, color='orange', width=0.4)\n",
        "plt.show()"
      ],
      "metadata": {
        "id": "4YGN0RHYD_iC",
        "outputId": "795772f1-7526-4374-bcef-429c82cd3843",
        "colab": {
          "base_uri": "https://localhost:8080/",
          "height": 265
        }
      },
      "execution_count": null,
      "outputs": [
        {
          "output_type": "display_data",
          "data": {
            "text/plain": [
              "<Figure size 504x288 with 1 Axes>"
            ],
            "image/png": "[encoded data removed]"
          },
          "metadata": {
            "needs_background": "light"
          }
        }
      ]
    },
    {
      "cell_type": "code",
      "source": [
        "df = pd.DataFrame({'Sejuti': [55,60,71],\n",
        "                   'farjana': [58,54,62]},\n",
        "                  index=['Presentation', 'Talk', 'Writing'])\n",
        "df.plot(kind='bar', stacked=True)"
      ],
      "metadata": {
        "id": "IqutG97hD_lu",
        "outputId": "26c9d5b4-1351-44a5-f671-f6577c915760",
        "colab": {
          "base_uri": "https://localhost:8080/",
          "height": 335
        }
      },
      "execution_count": null,
      "outputs": [
        {
          "output_type": "execute_result",
          "data": {
            "text/plain": [
              "<matplotlib.axes._subplots.AxesSubplot at 0x7f5b72c3a290>"
            ]
          },
          "metadata": {},
          "execution_count": 47
        },
        {
          "output_type": "display_data",
          "data": {
            "text/plain": [
              "<Figure size 432x288 with 1 Axes>"
            ],
            "image/png": "[encoded data removed]"
          },
          "metadata": {
            "needs_background": "light"
          }
        }
      ]
    },
    {
      "cell_type": "code",
      "source": [],
      "metadata": {
        "id": "YYX2IW--D_og"
      },
      "execution_count": null,
      "outputs": []
    }
  ]
}