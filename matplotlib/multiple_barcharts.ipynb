{
  "nbformat": 4,
  "nbformat_minor": 0,
  "metadata": {
    "colab": {
      "provenance": [],
      "collapsed_sections": [],
      "authorship_tag": "ABX9TyPgw9nFvq1ASPYZiLADSLB6",
      "include_colab_link": true
    },
    "kernelspec": {
      "name": "python3",
      "display_name": "Python 3"
    },
    "language_info": {
      "name": "python"
    }
  },
  "cells": [
    {
      "cell_type": "markdown",
      "metadata": {
        "id": "view-in-github",
        "colab_type": "text"
      },
      "source": [
        "<a href=\"https://colab.research.google.com/github/ShakilM26/Some_Visualisation/blob/main/matplotlib/multiple_barcharts.ipynb\" target=\"_parent\"><img src=\"https://colab.research.google.com/assets/colab-badge.svg\" alt=\"Open In Colab\"/></a>"
      ]
    },
    {
      "cell_type": "code",
      "execution_count": null,
      "metadata": {
        "id": "JGo015Wfl-iy"
      },
      "outputs": [],
      "source": [
        "import numpy as np\n",
        "import matplotlib.pyplot as plt"
      ]
    },
    {
      "cell_type": "code",
      "source": [
        "subject = ['Algorithm', 'Data Struc.', 'Operating Sys.', 'Compiler Design']\n",
        "boys_highest_marks = [84, 86, 86, 80]\n",
        "girls_highest_marks = [89, 92, 74, 70]\n",
        "\n",
        "range = np.arange(len(subject))\n",
        "w = 0.4\n",
        "\n",
        "plt.bar(range - 0.2, boys_highest_marks, w, label='Boys')\n",
        "plt.bar(range + 0.2, girls_highest_marks, w, label='Girls')\n",
        "plt.legend()\n",
        "plt.xticks(range, subject)\n",
        "plt.show()"
      ],
      "metadata": {
        "colab": {
          "base_uri": "https://localhost:8080/",
          "height": 265
        },
        "id": "g4jwqBkAmHZU",
        "outputId": "1b1eb4a3-0825-41fd-abeb-3583b7ec205f"
      },
      "execution_count": null,
      "outputs": [
        {
          "output_type": "display_data",
          "data": {
            "text/plain": [
              "<Figure size 432x288 with 1 Axes>"
            ],
            "image/png": "[encoded data removed]"
          },
          "metadata": {
            "needs_background": "light"
          }
        }
      ]
    },
    {
      "cell_type": "markdown",
      "source": [
        "**Method 2**"
      ],
      "metadata": {
        "id": "msZa86Mur2Ni"
      }
    },
    {
      "cell_type": "code",
      "source": [
        "fruits_price_2021 = [180, 200, 165, 210]\n",
        "fruits_price_2022 = [186, 210, 160, 220]\n",
        "n = 4\n",
        "range = np.arange(n)\n",
        "width = 0.4\n",
        "\n",
        "plt.bar(range, fruits_price_2021, width=width, color='b', edgecolor='black', label='2021')\n",
        "plt.bar(range+width, fruits_price_2022, width=width, color='g', edgecolor='white', label='2022')\n",
        "plt.title('Fruits Price in 2021-2022', fontsize=14)\n",
        "plt.xticks(range+width/2, ['Pomegranate', 'Orange', 'Grapes', 'Apple'])\n",
        "plt.show()"
      ],
      "metadata": {
        "colab": {
          "base_uri": "https://localhost:8080/",
          "height": 282
        },
        "id": "8QUNWjOAmH3c",
        "outputId": "7937d806-5bff-42fa-e8a7-d252717c2797"
      },
      "execution_count": null,
      "outputs": [
        {
          "output_type": "display_data",
          "data": {
            "text/plain": [
              "<Figure size 432x288 with 1 Axes>"
            ],
            "image/png": "[encoded data removed]"
          },
          "metadata": {
            "needs_background": "light"
          }
        }
      ]
    },
    {
      "cell_type": "code",
      "source": [],
      "metadata": {
        "id": "YANxwG4VmH6h"
      },
      "execution_count": null,
      "outputs": []
    },
    {
      "cell_type": "markdown",
      "source": [
        "**Method 3**"
      ],
      "metadata": {
        "id": "Xf07jL6XvG_t"
      }
    },
    {
      "cell_type": "code",
      "source": [
        "n = 3\n",
        "range = np.arange(n)\n",
        "width = 0.25\n",
        "\n",
        "russia = [18, 19, 8]\n",
        "bar1 = plt.bar(range, russia, width, color = 'orange', label='Russia')\n",
        "\n",
        "usa = [21, 19, 6]\n",
        "bar2 = plt.bar(range+width, usa, width, color='g', label='USA')\n",
        "\n",
        "china = [15, 10, 9]\n",
        "bar3 = plt.bar(range+width*2, china, width, color = 'b', label='China')\n",
        "\n",
        "plt.xticks(range+width/2, ['Gold', 'Silver', 'Bronze'])\n",
        "plt.title('Olympic Medals')\n",
        "plt.legend()"
      ],
      "metadata": {
        "colab": {
          "base_uri": "https://localhost:8080/",
          "height": 298
        },
        "id": "7Hivya1pmH9f",
        "outputId": "a85981a5-131a-4287-9cdd-44bd904ea24c"
      },
      "execution_count": null,
      "outputs": [
        {
          "output_type": "execute_result",
          "data": {
            "text/plain": [
              "<matplotlib.legend.Legend at 0x7f5fd14222d0>"
            ]
          },
          "metadata": {},
          "execution_count": 26
        },
        {
          "output_type": "display_data",
          "data": {
            "text/plain": [
              "<Figure size 432x288 with 1 Axes>"
            ],
            "image/png": "[encoded data removed]"
          },
          "metadata": {
            "needs_background": "light"
          }
        }
      ]
    },
    {
      "cell_type": "code",
      "source": [],
      "metadata": {
        "id": "uzWZuZarmIAg"
      },
      "execution_count": null,
      "outputs": []
    },
    {
      "cell_type": "code",
      "source": [],
      "metadata": {
        "id": "2348OeBdmIDG"
      },
      "execution_count": null,
      "outputs": []
    },
    {
      "cell_type": "code",
      "source": [],
      "metadata": {
        "id": "Gd34MFKEmIIS"
      },
      "execution_count": null,
      "outputs": []
    },
    {
      "cell_type": "code",
      "source": [],
      "metadata": {
        "id": "rj25d2wOmILY"
      },
      "execution_count": null,
      "outputs": []
    },
    {
      "cell_type": "code",
      "source": [],
      "metadata": {
        "id": "Bzh_YgV_mIOI"
      },
      "execution_count": null,
      "outputs": []
    },
    {
      "cell_type": "code",
      "source": [],
      "metadata": {
        "id": "z6jTDnE8mIRN"
      },
      "execution_count": null,
      "outputs": []
    },
    {
      "cell_type": "code",
      "source": [],
      "metadata": {
        "id": "0U6FzFKumIUC"
      },
      "execution_count": null,
      "outputs": []
    },
    {
      "cell_type": "code",
      "source": [],
      "metadata": {
        "id": "OF0l9YLhmIW8"
      },
      "execution_count": null,
      "outputs": []
    },
    {
      "cell_type": "code",
      "source": [],
      "metadata": {
        "id": "PyE1ruU5mIZ3"
      },
      "execution_count": null,
      "outputs": []
    },
    {
      "cell_type": "code",
      "source": [],
      "metadata": {
        "id": "y9DGHBRVmIco"
      },
      "execution_count": null,
      "outputs": []
    },
    {
      "cell_type": "code",
      "source": [],
      "metadata": {
        "id": "yz26TJLXmIfl"
      },
      "execution_count": null,
      "outputs": []
    },
    {
      "cell_type": "code",
      "source": [],
      "metadata": {
        "id": "zDcW9jHpmIiQ"
      },
      "execution_count": null,
      "outputs": []
    },
    {
      "cell_type": "code",
      "source": [],
      "metadata": {
        "id": "QRpoE74jmInS"
      },
      "execution_count": null,
      "outputs": []
    }
  ]
}