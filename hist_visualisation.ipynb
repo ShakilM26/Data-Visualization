{
  "nbformat": 4,
  "nbformat_minor": 0,
  "metadata": {
    "colab": {
      "name": "hist_visualisation.ipynb",
      "provenance": [],
      "authorship_tag": "ABX9TyNJgfAwx/59x4gNhyWeyaPf",
      "include_colab_link": true
    },
    "kernelspec": {
      "name": "python3",
      "display_name": "Python 3"
    },
    "language_info": {
      "name": "python"
    }
  },
  "cells": [
    {
      "cell_type": "markdown",
      "metadata": {
        "id": "view-in-github",
        "colab_type": "text"
      },
      "source": [
        "<a href=\"https://colab.research.google.com/github/ShakilM26/Some_Visualisation/blob/main/hist_visualisation.ipynb\" target=\"_parent\"><img src=\"https://colab.research.google.com/assets/colab-badge.svg\" alt=\"Open In Colab\"/></a>"
      ]
    },
    {
      "cell_type": "code",
      "execution_count": 1,
      "metadata": {
        "id": "txyW7i-F76VN"
      },
      "outputs": [],
      "source": [
        "import matplotlib.pyplot as plt"
      ]
    },
    {
      "cell_type": "code",
      "source": [
        "men = [22,55,62,45,21,82,105,128,91,102]\n",
        "women=[30,40,60,80,110,140,120,159,148,100]\n",
        "\n",
        "bin = [20,60,100,140,180]\n",
        "\n",
        "plt.hist([men, women], bins=bin, rwidth=0.80, ec='green')\n",
        "plt.legend(['Men', 'Women'], shadow=True)\n",
        "#plt.xticks(bin)\n",
        "plt.show()"
      ],
      "metadata": {
        "colab": {
          "base_uri": "https://localhost:8080/",
          "height": 265
        },
        "id": "ddPiYccE8LXH",
        "outputId": "f1e03ac2-5af0-4ae5-f16f-ffa48baffb5b"
      },
      "execution_count": 12,
      "outputs": [
        {
          "output_type": "display_data",
          "data": {
            "text/plain": [
              "<Figure size 432x288 with 1 Axes>"
            ],
            "image/png": "[encoded data removed]"
          },
          "metadata": {
            "needs_background": "light"
          }
        }
      ]
    },
    {
      "cell_type": "code",
      "source": [
        "year = ['2022', '2023', '2024', '2025', '2026', '2027', '2028']\n",
        "profit = [50,100,200,300,350,500,700]\n",
        "revenue = [40,80,150,200,300,400,500]\n",
        "\n",
        "plt.figure(figsize=[8,6])\n",
        "plt.bar(year, profit, label='Profit')\n",
        "plt.bar(year, revenue, label='Revenue')\n",
        "plt.legend(loc='best', shadow=True, fontsize='large')\n",
        "plt.show()"
      ],
      "metadata": {
        "colab": {
          "base_uri": "https://localhost:8080/",
          "height": 374
        },
        "id": "Q22XjRcm8bvL",
        "outputId": "614477b0-2734-4558-aa6a-4f86c3775586"
      },
      "execution_count": 19,
      "outputs": [
        {
          "output_type": "display_data",
          "data": {
            "text/plain": [
              "<Figure size 576x432 with 1 Axes>"
            ],
            "image/png": "[encoded data removed]"
          },
          "metadata": {
            "needs_background": "light"
          }
        }
      ]
    },
    {
      "cell_type": "code",
      "source": [],
      "metadata": {
        "id": "NUjTwnSV9kuW"
      },
      "execution_count": null,
      "outputs": []
    }
  ]
}